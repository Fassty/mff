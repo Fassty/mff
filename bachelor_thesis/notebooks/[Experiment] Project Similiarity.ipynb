{
 "cells": [
  {
   "cell_type": "code",
   "execution_count": 45,
   "metadata": {},
   "outputs": [],
   "source": [
    "import os\n",
    "import pickle\n",
    "import re\n",
    "from string import punctuation\n",
    "from stop_words import get_stop_words\n",
    "from collections import defaultdict, Counter\n",
    "\n",
    "import pandas as pd\n",
    "import numpy as np\n",
    "import matplotlib.pyplot as plt\n",
    "import seaborn as sns\n",
    "import ipywidgets as widgets\n",
    "\n",
    "from gensim.models import Word2Vec, Doc2Vec, FastText\n",
    "import warnings\n",
    "warnings.filterwarnings('ignore')"
   ]
  },
  {
   "cell_type": "code",
   "execution_count": 43,
   "metadata": {},
   "outputs": [
    {
     "data": {
      "text/plain": [
       "['w2v_d2v_kwords_lemmatize',\n",
       " 'ud_pipe_czech_text',\n",
       " 'tf_w2v_d2v_fast_eng_n_a_kwords_2',\n",
       " 'tf_w2v_d2v_fast_eng_n_a_kwords',\n",
       " 'tf_w2v_d2v_fast_cz_nolemma_naz_anot_obor_uc_res_pos',\n",
       " 'ud_pipe_nazev_anotace_stopwords',\n",
       " 'd2v_w2v_kwords_nolemma']"
      ]
     },
     "metadata": {},
     "output_type": "display_data"
    }
   ],
   "source": [
    "display(os.listdir('saved_models/'))\n",
    "\n",
    "exp_features = {\n",
    "    'w2v_d2v_kwords_lemmatize': ['Klíčová slova'],\n",
    "    'd2v_w2v_kwords_nolemma': ['Klíčová slova'],\n",
    "    'ud_pipe_czech_text': ['Název česky', 'Anotace česky'],\n",
    "    'ud_pipe_nazev_anotace_stopwords': ['Název česky', 'Anotace česky'],\n",
    "    'tf_w2v_d2v_fast_eng_n_a_kwords_2': ['Název anglicky', 'Anotace anglicky', 'Klíčová slova'],\n",
    "}"
   ]
  },
  {
   "cell_type": "code",
   "execution_count": 20,
   "metadata": {},
   "outputs": [
    {
     "data": {
      "application/vnd.jupyter.widget-view+json": {
       "model_id": "3f9f451ce8d94c068dfa775679dabd28",
       "version_major": 2,
       "version_minor": 0
      },
      "text/plain": [
       "Text(value='', layout=Layout(height='auto', width='auto'), placeholder='Enter a list of keywords separated by …"
      ]
     },
     "metadata": {},
     "output_type": "display_data"
    }
   ],
   "source": [
    "query = widgets.Text(\n",
    "    value='',\n",
    "    placeholder='Enter a list of keywords separated by a comma',\n",
    "    disabled=False,\n",
    "    layout=widgets.Layout(height=\"auto\", width=\"auto\")\n",
    ")\n",
    "query"
   ]
  },
  {
   "cell_type": "code",
   "execution_count": 39,
   "metadata": {},
   "outputs": [
    {
     "name": "stdout",
     "output_type": "stream",
     "text": [
      "Doc2Vec(dm/m,d200,n5,hs,w5,s0.001,t8)\n",
      "Word2Vec(vocab=47854, vector_size=50, alpha=0.025)\n",
      "Word2Vec(vocab=47854, vector_size=25, alpha=0.025)\n",
      "Doc2Vec(dm/m,d200,n5,hs,w5,s0.001,t8)\n",
      "Word2Vec(vocab=47854, vector_size=200, alpha=0.025)\n",
      "Word2Vec(vocab=47854, vector_size=25, alpha=0.025)\n",
      "Doc2Vec(dm/m,d50,n5,hs,w5,s0.001,t8)\n",
      "Doc2Vec(dm/m,d300,n5,hs,w5,s0.001,t8)\n",
      "Doc2Vec(dm/m,d300,n5,hs,w5,s0.001,t8)\n",
      "Doc2Vec(dm/m,d25,n5,hs,w5,s0.001,t8)\n",
      "Doc2Vec(dm/m,d100,n5,hs,w5,s0.001,t8)\n",
      "Word2Vec(vocab=47854, vector_size=50, alpha=0.025)\n",
      "Doc2Vec(dm/m,d300,n5,hs,w5,s0.001,t8)\n",
      "Doc2Vec(dm/m,d200,n5,hs,w5,s0.001,t8)\n",
      "Word2Vec(vocab=47854, vector_size=25, alpha=0.025)\n",
      "Doc2Vec(dm/m,d100,n5,hs,w5,s0.001,t8)\n",
      "Doc2Vec(dm/m,d100,n5,hs,w5,s0.001,t8)\n",
      "Word2Vec(vocab=47854, vector_size=50, alpha=0.025)\n",
      "Doc2Vec(dm/m,d100,n5,hs,w5,s0.001,t8)\n",
      "Word2Vec(vocab=47854, vector_size=100, alpha=0.025)\n",
      "Doc2Vec(dm/m,d50,n5,hs,w5,s0.001,t8)\n",
      "Word2Vec(vocab=47854, vector_size=50, alpha=0.025)\n",
      "Doc2Vec(dm/m,d300,n5,hs,w5,s0.001,t8)\n",
      "Word2Vec(vocab=47854, vector_size=25, alpha=0.025)\n",
      "Doc2Vec(dm/m,d200,n5,hs,w5,s0.001,t8)\n",
      "Word2Vec(vocab=47854, vector_size=200, alpha=0.025)\n",
      "Word2Vec(vocab=47854, vector_size=100, alpha=0.025)\n",
      "Doc2Vec(dm/m,d25,n5,hs,w5,s0.001,t8)\n",
      "Doc2Vec(dm/m,d300,n5,hs,w5,s0.001,t8)\n",
      "Word2Vec(vocab=47854, vector_size=100, alpha=0.025)\n",
      "Doc2Vec(dm/m,d50,n5,hs,w5,s0.001,t8)\n",
      "Word2Vec(vocab=47854, vector_size=200, alpha=0.025)\n",
      "Doc2Vec(dm/m,d25,n5,hs,w5,s0.001,t8)\n",
      "Doc2Vec(dm/m,d25,n5,hs,w5,s0.001,t8)\n",
      "Doc2Vec(dm/m,d100,n5,hs,w5,s0.001,t8)\n",
      "Doc2Vec(dm/m,d50,n5,hs,w5,s0.001,t8)\n",
      "Word2Vec(vocab=47854, vector_size=200, alpha=0.025)\n",
      "Doc2Vec(dm/m,d50,n5,hs,w5,s0.001,t8)\n",
      "Word2Vec(vocab=47854, vector_size=100, alpha=0.025)\n",
      "Doc2Vec(dm/m,d25,n5,hs,w5,s0.001,t8)\n",
      "Doc2Vec(dm/m,d200,n5,hs,w5,s0.001,t8)\n"
     ]
    }
   ],
   "source": [
    "sw = get_stop_words('cz')\n",
    "sw += get_stop_words('en')\n",
    "sw = set(sw)\n",
    "\n",
    "def remove_punctuation(arr):\n",
    "    return [w for w in arr if w not in punctuation]\n",
    "    \n",
    "def remove_stopwords(arr, mc):\n",
    "    ssw = sw.union(mc)\n",
    "    return [w for w in arr if w not in ssw]\n",
    "\n",
    "def process_data(data):\n",
    "    data = data.apply(remove_punctuation)\n",
    "    most_common = set([t[0] for t in counts.most_common(100)])\n",
    "\n",
    "exp_name = 'w2v_d2v_kwords_lemmatize'\n",
    "df = pd.read_csv('../data/TACR_Starfos_isvav_project.csv')\n",
    "df = df[exp_features[exp_name]]\n",
    "df = df[~df.isna().any(axis=1)]\n",
    "root_path = os.path.join('saved_models', exp_name)\n",
    "for model_name in os.listdir(root_path):\n",
    "    if model_name.startswith('word2vec') and not model_name.endswith('.npy'):\n",
    "        model = Word2Vec.load(os.path.join(root_path, model_name))\n",
    "    elif model_name.startswith('doc2vec') and not model_name.endswith('.npy'):\n",
    "        model = Doc2Vec.load(os.path.join(root_path, model_name))\n",
    "    else: \n",
    "        continue\n",
    "    "
   ]
  },
  {
   "cell_type": "code",
   "execution_count": null,
   "metadata": {},
   "outputs": [],
   "source": []
  }
 ],
 "metadata": {
  "kernelspec": {
   "display_name": "Python 3",
   "language": "python",
   "name": "python3"
  },
  "language_info": {
   "codemirror_mode": {
    "name": "ipython",
    "version": 3
   },
   "file_extension": ".py",
   "mimetype": "text/x-python",
   "name": "python",
   "nbconvert_exporter": "python",
   "pygments_lexer": "ipython3",
   "version": "3.7.9"
  }
 },
 "nbformat": 4,
 "nbformat_minor": 4
}
