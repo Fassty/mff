{
 "cells": [
  {
   "cell_type": "code",
   "execution_count": 1,
   "metadata": {},
   "outputs": [],
   "source": [
    "import pandas as pd"
   ]
  },
  {
   "cell_type": "code",
   "execution_count": 2,
   "metadata": {},
   "outputs": [
    {
     "data": {
      "text/html": [
       "<div>\n",
       "<style scoped>\n",
       "    .dataframe tbody tr th:only-of-type {\n",
       "        vertical-align: middle;\n",
       "    }\n",
       "\n",
       "    .dataframe tbody tr th {\n",
       "        vertical-align: top;\n",
       "    }\n",
       "\n",
       "    .dataframe thead th {\n",
       "        text-align: right;\n",
       "    }\n",
       "</style>\n",
       "<table border=\"1\" class=\"dataframe\">\n",
       "  <thead>\n",
       "    <tr style=\"text-align: right;\">\n",
       "      <th></th>\n",
       "      <th>text</th>\n",
       "    </tr>\n",
       "  </thead>\n",
       "  <tbody>\n",
       "    <tr>\n",
       "      <th>0</th>\n",
       "      <td>this sentence is about whales</td>\n",
       "    </tr>\n",
       "    <tr>\n",
       "      <th>1</th>\n",
       "      <td>this sentence is about kangaroos</td>\n",
       "    </tr>\n",
       "    <tr>\n",
       "      <th>2</th>\n",
       "      <td>this sentence is about rhinos</td>\n",
       "    </tr>\n",
       "    <tr>\n",
       "      <th>3</th>\n",
       "      <td>this is an another sentence about whales</td>\n",
       "    </tr>\n",
       "    <tr>\n",
       "      <th>4</th>\n",
       "      <td>yet another sentence about kangaroos</td>\n",
       "    </tr>\n",
       "  </tbody>\n",
       "</table>\n",
       "</div>"
      ],
      "text/plain": [
       "                                       text\n",
       "0             this sentence is about whales\n",
       "1          this sentence is about kangaroos\n",
       "2             this sentence is about rhinos\n",
       "3  this is an another sentence about whales\n",
       "4      yet another sentence about kangaroos"
      ]
     },
     "execution_count": 2,
     "metadata": {},
     "output_type": "execute_result"
    }
   ],
   "source": [
    "df = pd.DataFrame([\"this sentence is about whales\", \n",
    "                   \"this sentence is about kangaroos\", \n",
    "                   \"this sentence is about rhinos\", \n",
    "                   \"this is an another sentence about whales\",\n",
    "                   \"yet another sentence about kangaroos\"])\n",
    "\n",
    "df.columns = ['text']\n",
    "df"
   ]
  },
  {
   "cell_type": "code",
   "execution_count": 3,
   "metadata": {},
   "outputs": [],
   "source": [
    "import nltk"
   ]
  },
  {
   "cell_type": "code",
   "execution_count": 4,
   "metadata": {},
   "outputs": [
    {
     "data": {
      "text/plain": [
       "0               this sentence is about whale\n",
       "1            this sentence is about kangaroo\n",
       "2               this sentence is about rhino\n",
       "3    this is an another sentence about whale\n",
       "4        yet another sentence about kangaroo\n",
       "Name: text_lemmatized, dtype: object"
      ]
     },
     "execution_count": 4,
     "metadata": {},
     "output_type": "execute_result"
    }
   ],
   "source": [
    "tokenizer = nltk.tokenize.WhitespaceTokenizer()\n",
    "lemmatizer = nltk.stem.WordNetLemmatizer()\n",
    "\n",
    "def lemmatize_text(text):\n",
    "    return [lemmatizer.lemmatize(w) for w in tokenizer.tokenize(text)]\n",
    "\n",
    "df['text_lemmatized'] = df['text'].apply(lemmatize_text)\n",
    "df['text_lemmatized'] = df['text_lemmatized'].apply(lambda x: ' '.join(x))\n",
    "df['text_lemmatized']"
   ]
  },
  {
   "cell_type": "code",
   "execution_count": 5,
   "metadata": {},
   "outputs": [
    {
     "data": {
      "text/html": [
       "<div>\n",
       "<style scoped>\n",
       "    .dataframe tbody tr th:only-of-type {\n",
       "        vertical-align: middle;\n",
       "    }\n",
       "\n",
       "    .dataframe tbody tr th {\n",
       "        vertical-align: top;\n",
       "    }\n",
       "\n",
       "    .dataframe thead th {\n",
       "        text-align: right;\n",
       "    }\n",
       "</style>\n",
       "<table border=\"1\" class=\"dataframe\">\n",
       "  <thead>\n",
       "    <tr style=\"text-align: right;\">\n",
       "      <th></th>\n",
       "      <th>text</th>\n",
       "      <th>text_lemmatized</th>\n",
       "    </tr>\n",
       "  </thead>\n",
       "  <tbody>\n",
       "    <tr>\n",
       "      <th>0</th>\n",
       "      <td>this sentence is about whales</td>\n",
       "      <td>this sentence is about whale</td>\n",
       "    </tr>\n",
       "    <tr>\n",
       "      <th>1</th>\n",
       "      <td>this sentence is about kangaroos</td>\n",
       "      <td>this sentence is about kangaroo</td>\n",
       "    </tr>\n",
       "    <tr>\n",
       "      <th>2</th>\n",
       "      <td>this sentence is about rhinos</td>\n",
       "      <td>this sentence is about rhino</td>\n",
       "    </tr>\n",
       "    <tr>\n",
       "      <th>3</th>\n",
       "      <td>this is an another sentence about whales</td>\n",
       "      <td>this is an another sentence about whale</td>\n",
       "    </tr>\n",
       "    <tr>\n",
       "      <th>4</th>\n",
       "      <td>yet another sentence about kangaroos</td>\n",
       "      <td>yet another sentence about kangaroo</td>\n",
       "    </tr>\n",
       "  </tbody>\n",
       "</table>\n",
       "</div>"
      ],
      "text/plain": [
       "                                       text  \\\n",
       "0             this sentence is about whales   \n",
       "1          this sentence is about kangaroos   \n",
       "2             this sentence is about rhinos   \n",
       "3  this is an another sentence about whales   \n",
       "4      yet another sentence about kangaroos   \n",
       "\n",
       "                           text_lemmatized  \n",
       "0             this sentence is about whale  \n",
       "1          this sentence is about kangaroo  \n",
       "2             this sentence is about rhino  \n",
       "3  this is an another sentence about whale  \n",
       "4      yet another sentence about kangaroo  "
      ]
     },
     "execution_count": 5,
     "metadata": {},
     "output_type": "execute_result"
    }
   ],
   "source": [
    "df"
   ]
  },
  {
   "cell_type": "code",
   "execution_count": 6,
   "metadata": {},
   "outputs": [],
   "source": [
    "from sklearn.feature_extraction.text import TfidfVectorizer"
   ]
  },
  {
   "cell_type": "code",
   "execution_count": 7,
   "metadata": {},
   "outputs": [
    {
     "data": {
      "text/plain": [
       "0      (0, 8)\\t0.6116585028038916\\n  (0, 0)\\t0.3612...\n",
       "1      (0, 8)\\t0.6116585028038916\\n  (0, 0)\\t0.3612...\n",
       "2      (0, 8)\\t0.6116585028038916\\n  (0, 0)\\t0.3612...\n",
       "3      (0, 8)\\t0.6116585028038916\\n  (0, 0)\\t0.3612...\n",
       "4      (0, 8)\\t0.6116585028038916\\n  (0, 0)\\t0.3612...\n",
       "Name: vectorized, dtype: object"
      ]
     },
     "execution_count": 7,
     "metadata": {},
     "output_type": "execute_result"
    }
   ],
   "source": [
    "transformer = TfidfVectorizer()\n",
    "df['vectorized'] = transformer.fit_transform(df['text_lemmatized'])\n",
    "df['vectorized']"
   ]
  },
  {
   "cell_type": "code",
   "execution_count": 8,
   "metadata": {},
   "outputs": [],
   "source": [
    "vectorized = df['vectorized'][0].toarray()"
   ]
  },
  {
   "cell_type": "code",
   "execution_count": 9,
   "metadata": {},
   "outputs": [
    {
     "name": "stdout",
     "output_type": "stream",
     "text": [
      "['about', 'an', 'another', 'is', 'kangaroo', 'rhino', 'sentence', 'this', 'whale', 'yet']\n"
     ]
    }
   ],
   "source": [
    "results = set()\n",
    "df['text_lemmatized'].str.lower().str.split().apply(results.update)\n",
    "print(sorted(results))"
   ]
  },
  {
   "cell_type": "code",
   "execution_count": 10,
   "metadata": {},
   "outputs": [],
   "source": [
    "from nltk.cluster import KMeansClusterer, euclidean_distance, cosine_distance"
   ]
  },
  {
   "cell_type": "code",
   "execution_count": 11,
   "metadata": {},
   "outputs": [
    {
     "name": "stdout",
     "output_type": "stream",
     "text": [
      "Euclidean distance\n",
      "[2, 1, 0, 2, 1]\n",
      "[2, 1, 0, 2, 1]\n",
      "[2, 1, 0, 2, 1]\n",
      "[2, 1, 0, 2, 1]\n",
      "[2, 1, 1, 2, 0]\n",
      "[1, 1, 1, 2, 0]\n",
      "[2, 1, 0, 2, 1]\n",
      "[2, 1, 0, 2, 1]\n",
      "[2, 1, 0, 2, 1]\n",
      "[2, 1, 0, 2, 1]\n",
      "Cosine distance\n",
      "[2, 1, 0, 2, 1]\n",
      "[2, 1, 1, 2, 0]\n",
      "[2, 1, 1, 2, 0]\n",
      "[2, 1, 0, 2, 1]\n",
      "[2, 1, 1, 2, 0]\n",
      "[2, 1, 0, 2, 1]\n",
      "[2, 1, 0, 2, 1]\n",
      "[2, 1, 1, 2, 0]\n",
      "[2, 1, 0, 2, 1]\n",
      "[2, 1, 0, 2, 1]\n"
     ]
    }
   ],
   "source": [
    "print('Euclidean distance')\n",
    "for i in range(10):\n",
    "    clusterer = KMeansClusterer(3, euclidean_distance, repeats=25)\n",
    "    clusters = clusterer.cluster(vectorized, True)\n",
    "    print(clusters)\n",
    "\n",
    "print('Cosine distance')\n",
    "for i in range(10):\n",
    "    clusterer = KMeansClusterer(3, cosine_distance, repeats=25)\n",
    "    clusters = clusterer.cluster(vectorized, True)\n",
    "    print(clusters)"
   ]
  },
  {
   "cell_type": "code",
   "execution_count": 12,
   "metadata": {},
   "outputs": [],
   "source": [
    "from sklearn.manifold import TSNE\n",
    "import matplotlib.pyplot as plt "
   ]
  },
  {
   "cell_type": "code",
   "execution_count": 13,
   "metadata": {},
   "outputs": [],
   "source": [
    "?TSNE"
   ]
  },
  {
   "cell_type": "code",
   "execution_count": 14,
   "metadata": {},
   "outputs": [],
   "source": [
    "tsne_model = TSNE(perplexity=40, metric='euclidean', n_components=2, init='pca', n_iter=2500, random_state=23)\n",
    "new_values = tsne_model.fit_transform(vectorized)"
   ]
  },
  {
   "cell_type": "code",
   "execution_count": null,
   "metadata": {},
   "outputs": [],
   "source": []
  },
  {
   "cell_type": "code",
   "execution_count": 15,
   "metadata": {},
   "outputs": [
    {
     "data": {
      "image/png": "[encoded data removed]",
      "text/plain": [
       "<Figure size 432x432 with 1 Axes>"
      ]
     },
     "metadata": {
      "needs_background": "light"
     },
     "output_type": "display_data"
    }
   ],
   "source": [
    "colors = ['red', 'blue', 'green', 'orange', 'purple']\n",
    "\n",
    "x = []\n",
    "y = []\n",
    "for value in new_values:\n",
    "    x.append(value[0])\n",
    "    y.append(value[1])\n",
    "\n",
    "plt.figure(figsize=(6, 6)) \n",
    "for i in range(len(x)):\n",
    "    plt.scatter(x[i],y[i], color=colors[clusters[i]])\n",
    "    plt.annotate(df['text_lemmatized'][i],\n",
    "                 xy=(x[i], y[i]),\n",
    "                 xytext=(5, 2),\n",
    "                 textcoords='offset points',\n",
    "                 ha='right',\n",
    "                 va='bottom')\n",
    "plt.show()"
   ]
  },
  {
   "cell_type": "code",
   "execution_count": null,
   "metadata": {},
   "outputs": [],
   "source": []
  }
 ],
 "metadata": {
  "kernelspec": {
   "display_name": "Python 3",
   "language": "python",
   "name": "python3"
  },
  "language_info": {
   "codemirror_mode": {
    "name": "ipython",
    "version": 3
   },
   "file_extension": ".py",
   "mimetype": "text/x-python",
   "name": "python",
   "nbconvert_exporter": "python",
   "pygments_lexer": "ipython3",
   "version": "3.7.6"
  }
 },
 "nbformat": 4,
 "nbformat_minor": 4
}
