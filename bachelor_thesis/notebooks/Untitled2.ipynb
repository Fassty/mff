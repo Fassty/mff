{
 "cells": [
  {
   "cell_type": "code",
   "execution_count": 19,
   "metadata": {},
   "outputs": [],
   "source": [
    "import requests\n",
    "from conllu import parse\n",
    "def ud_tokenize_lemmatize(text):\n",
    "    response = requests.get(f'http://lindat.mff.cuni.cz/services/udpipe/api/process?tokenizer&tagger&parser&data={text}').json()\n",
    "    response = parse(response['result'])\n",
    "    lemmas = []\n",
    "    for sentence in response:\n",
    "        lemmas.extend([word['lemma'] for word in sentence])\n",
    "    return lemmas"
   ]
  },
  {
   "cell_type": "code",
   "execution_count": 44,
   "metadata": {},
   "outputs": [],
   "source": []
  },
  {
   "cell_type": "code",
   "execution_count": 47,
   "metadata": {},
   "outputs": [
    {
     "data": {
      "text/plain": [
       "'o ten , jak standardní být být Hamáčkův výlet do ruský metropole , svědčit i ten , že být ten dlouhý dvanáct rok , co být český ministr zahraničí naposledy na návštěva v Rusko . a i tehdy ten být jen kvůli ten , že Praha předsedat evropský unie . z dnešní pohled jít o symbolický setkání , či spíše střet .'"
      ]
     },
     "execution_count": 47,
     "metadata": {},
     "output_type": "execute_result"
    }
   ],
   "source": [
    "text = 'O tom, jak nestandardní by byl Hamáčkův výlet do ruské metropole,svědčí i to, že je to dlouhých dvanáct let, co byl český ministr zahraničí naposledy na návštěvě v Rusku. A i tehdy to bylo jen kvůli tomu, že Praha předsedala Evropské unii. Z dnešního pohledu šlo o symbolické setkání, či spíše střet.'\n",
    "\n",
    "lemmatized = ud_lemmatize(text)\n",
    "' '.join(lemmatized)"
   ]
  },
  {
   "cell_type": "code",
   "execution_count": null,
   "metadata": {},
   "outputs": [],
   "source": []
  }
 ],
 "metadata": {
  "kernelspec": {
   "display_name": "Python 3",
   "language": "python",
   "name": "python3"
  },
  "language_info": {
   "codemirror_mode": {
    "name": "ipython",
    "version": 3
   },
   "file_extension": ".py",
   "mimetype": "text/x-python",
   "name": "python",
   "nbconvert_exporter": "python",
   "pygments_lexer": "ipython3",
   "version": "3.7.9"
  }
 },
 "nbformat": 4,
 "nbformat_minor": 4
}
