{
 "cells": [
  {
   "cell_type": "markdown",
   "metadata": {},
   "source": [
    "# Data acquisition\n",
    "\n",
    "Load raw data, pick interresting columns, "
   ]
  },
  {
   "cell_type": "code",
   "execution_count": 1,
   "metadata": {},
   "outputs": [],
   "source": [
    "import pandas as pd"
   ]
  },
  {
   "cell_type": "code",
   "execution_count": 2,
   "metadata": {},
   "outputs": [
    {
     "name": "stderr",
     "output_type": "stream",
     "text": [
      "/home/fassty/anaconda3/envs/deep_learning/lib/python3.7/site-packages/IPython/core/interactiveshell.py:3063: DtypeWarning: Columns (11) have mixed types.Specify dtype option on import or set low_memory=False.\n",
      "  interactivity=interactivity, compiler=compiler, result=result)\n",
      "/home/fassty/anaconda3/envs/deep_learning/lib/python3.7/site-packages/IPython/core/interactiveshell.py:3063: DtypeWarning: Columns (8,9,10,19) have mixed types.Specify dtype option on import or set low_memory=False.\n",
      "  interactivity=interactivity, compiler=compiler, result=result)\n"
     ]
    }
   ],
   "source": [
    "col1 = pd.read_csv('data/collection1.csv', sep=',')\n",
    "col2 = pd.read_csv('data/collection2.csv', sep=',')\n",
    "col3 = pd.read_csv('data/collection3.csv', sep=',')\n",
    "col4 = pd.read_csv('data/collection4.csv', sep=',')"
   ]
  },
  {
   "cell_type": "code",
   "execution_count": 3,
   "metadata": {},
   "outputs": [
    {
     "name": "stdout",
     "output_type": "stream",
     "text": [
      "18691 19449 19588 11629\n"
     ]
    },
    {
     "data": {
      "text/plain": [
       "True"
      ]
     },
     "execution_count": 3,
     "metadata": {},
     "output_type": "execute_result"
    }
   ],
   "source": [
    "print(len(col1), len(col2), len(col3), len(col4))\n",
    "\n",
    "df = pd.concat([col1, col2, col3, col4])\n",
    "all(df.columns == col1.columns)"
   ]
  },
  {
   "cell_type": "code",
   "execution_count": 4,
   "metadata": {},
   "outputs": [
    {
     "data": {
      "text/html": [
       "<div>\n",
       "<style scoped>\n",
       "    .dataframe tbody tr th:only-of-type {\n",
       "        vertical-align: middle;\n",
       "    }\n",
       "\n",
       "    .dataframe tbody tr th {\n",
       "        vertical-align: top;\n",
       "    }\n",
       "\n",
       "    .dataframe thead th {\n",
       "        text-align: right;\n",
       "    }\n",
       "</style>\n",
       "<table border=\"1\" class=\"dataframe\">\n",
       "  <thead>\n",
       "    <tr style=\"text-align: right;\">\n",
       "      <th></th>\n",
       "      <th>Kód projektu</th>\n",
       "      <th>Název česky</th>\n",
       "      <th>Anotace česky</th>\n",
       "      <th>Hlavní CEP obor</th>\n",
       "      <th>Klíčová slova</th>\n",
       "      <th>Poskytovatel</th>\n",
       "      <th>Podpora ze SR</th>\n",
       "    </tr>\n",
       "  </thead>\n",
       "  <tbody>\n",
       "    <tr>\n",
       "      <th>0</th>\n",
       "      <td>AACBUAP</td>\n",
       "      <td>Dynamika výstupu důlních plynů z podzemních pr...</td>\n",
       "      <td>Cílem projektu je vypracovat metodiku měření, ...</td>\n",
       "      <td>DH - Báňský průmysl včetně těžby a zpracování ...</td>\n",
       "      <td>Mines</td>\n",
       "      <td>ČBÚ - Český báňský úřad</td>\n",
       "      <td>2000</td>\n",
       "    </tr>\n",
       "    <tr>\n",
       "      <th>1</th>\n",
       "      <td>AACBUAQ</td>\n",
       "      <td>Eliminace nebezpečí z unikajícího plynu karbon...</td>\n",
       "      <td>Předmětem projektu je vypracování metodiky pro...</td>\n",
       "      <td>DH - Báňský průmysl včetně těžby a zpracování ...</td>\n",
       "      <td>Mines</td>\n",
       "      <td>ČBÚ - Český báňský úřad</td>\n",
       "      <td>1990</td>\n",
       "    </tr>\n",
       "    <tr>\n",
       "      <th>2</th>\n",
       "      <td>AACBUAR</td>\n",
       "      <td>Stanovení technických požadavků na bezpečnost ...</td>\n",
       "      <td>Stanovení odpovídajících technických požadavků...</td>\n",
       "      <td>DH - Báňský průmysl včetně těžby a zpracování ...</td>\n",
       "      <td>Mines</td>\n",
       "      <td>ČBÚ - Český báňský úřad</td>\n",
       "      <td>1900</td>\n",
       "    </tr>\n",
       "    <tr>\n",
       "      <th>3</th>\n",
       "      <td>BI200201</td>\n",
       "      <td>komplexní přístup k výuce a rozvoj komunikační...</td>\n",
       "      <td>komplexní přístup k přípravě a výcviku</td>\n",
       "      <td>AN - Psychologie</td>\n",
       "      <td>communication methods of development EQ</td>\n",
       "      <td>BIS - Bezpečnostní a informační služba</td>\n",
       "      <td>300</td>\n",
       "    </tr>\n",
       "    <tr>\n",
       "      <th>4</th>\n",
       "      <td>FD-K2/01</td>\n",
       "      <td>Výzkum nových metod zpracování obrazu pro přes...</td>\n",
       "      <td>Projekt je zaměřen na zlepšení užitných vlastn...</td>\n",
       "      <td>JN - Stavebnictví</td>\n",
       "      <td>accurate gauging of dimensions; building industry</td>\n",
       "      <td>MPO - Ministerstvo průmyslu a obchodu</td>\n",
       "      <td>7214</td>\n",
       "    </tr>\n",
       "    <tr>\n",
       "      <th>5</th>\n",
       "      <td>FD-K2/09</td>\n",
       "      <td>Výzkum a vývoj nových principů kinematiky více...</td>\n",
       "      <td>Vertikální centrum s vysokou dynamikou lineárn...</td>\n",
       "      <td>JQ - Strojní zařízení a nástroje</td>\n",
       "      <td>vertical machining centre; high dynamics multi...</td>\n",
       "      <td>MPO - Ministerstvo průmyslu a obchodu</td>\n",
       "      <td>6006</td>\n",
       "    </tr>\n",
       "    <tr>\n",
       "      <th>6</th>\n",
       "      <td>FD-K2/10</td>\n",
       "      <td>Moderní metody projektování spínačů velkých st...</td>\n",
       "      <td>Současné spínací přístroje stejnosměrných prou...</td>\n",
       "      <td>JA - Elektronika a optoelektronika, elektrotec...</td>\n",
       "      <td>high DC current switching devices; electric dr...</td>\n",
       "      <td>MPO - Ministerstvo průmyslu a obchodu</td>\n",
       "      <td>7394</td>\n",
       "    </tr>\n",
       "    <tr>\n",
       "      <th>7</th>\n",
       "      <td>FD-K2/11</td>\n",
       "      <td>Vývoj zařízení pro dopravu a nástřik pěn při p...</td>\n",
       "      <td>Projekt vývoje zařízení pro periodickou nebo n...</td>\n",
       "      <td>JR - Ostatní strojírenství</td>\n",
       "      <td>foams; central distributions; transportation; ...</td>\n",
       "      <td>MPO - Ministerstvo průmyslu a obchodu</td>\n",
       "      <td>1390</td>\n",
       "    </tr>\n",
       "    <tr>\n",
       "      <th>8</th>\n",
       "      <td>FD-K2/20</td>\n",
       "      <td>Modernizace technologií a inovací archových of...</td>\n",
       "      <td>Projekt řeší zavedení technologií řízených for...</td>\n",
       "      <td>JQ - Strojní zařízení a nástroje</td>\n",
       "      <td>sheet-fed offset presses</td>\n",
       "      <td>MPO - Ministerstvo průmyslu a obchodu</td>\n",
       "      <td>18800</td>\n",
       "    </tr>\n",
       "    <tr>\n",
       "      <th>9</th>\n",
       "      <td>FD-K2/22</td>\n",
       "      <td>Vývoj metodik, technologií a zařízení pro hodn...</td>\n",
       "      <td>Cílem navrhovaného projektu je vývoj přístroje...</td>\n",
       "      <td>JG - Hutnictví, kovové materiály</td>\n",
       "      <td>damage; heat exchange surface; pipe systém</td>\n",
       "      <td>MPO - Ministerstvo průmyslu a obchodu</td>\n",
       "      <td>27000</td>\n",
       "    </tr>\n",
       "  </tbody>\n",
       "</table>\n",
       "</div>"
      ],
      "text/plain": [
       "  Kód projektu                                        Název česky  \\\n",
       "0      AACBUAP  Dynamika výstupu důlních plynů z podzemních pr...   \n",
       "1      AACBUAQ  Eliminace nebezpečí z unikajícího plynu karbon...   \n",
       "2      AACBUAR  Stanovení technických požadavků na bezpečnost ...   \n",
       "3     BI200201  komplexní přístup k výuce a rozvoj komunikační...   \n",
       "4     FD-K2/01  Výzkum nových metod zpracování obrazu pro přes...   \n",
       "5     FD-K2/09  Výzkum a vývoj nových principů kinematiky více...   \n",
       "6     FD-K2/10  Moderní metody projektování spínačů velkých st...   \n",
       "7     FD-K2/11  Vývoj zařízení pro dopravu a nástřik pěn při p...   \n",
       "8     FD-K2/20  Modernizace technologií a inovací archových of...   \n",
       "9     FD-K2/22  Vývoj metodik, technologií a zařízení pro hodn...   \n",
       "\n",
       "                                       Anotace česky  \\\n",
       "0  Cílem projektu je vypracovat metodiku měření, ...   \n",
       "1  Předmětem projektu je vypracování metodiky pro...   \n",
       "2  Stanovení odpovídajících technických požadavků...   \n",
       "3             komplexní přístup k přípravě a výcviku   \n",
       "4  Projekt je zaměřen na zlepšení užitných vlastn...   \n",
       "5  Vertikální centrum s vysokou dynamikou lineárn...   \n",
       "6  Současné spínací přístroje stejnosměrných prou...   \n",
       "7  Projekt vývoje zařízení pro periodickou nebo n...   \n",
       "8  Projekt řeší zavedení technologií řízených for...   \n",
       "9  Cílem navrhovaného projektu je vývoj přístroje...   \n",
       "\n",
       "                                     Hlavní CEP obor  \\\n",
       "0  DH - Báňský průmysl včetně těžby a zpracování ...   \n",
       "1  DH - Báňský průmysl včetně těžby a zpracování ...   \n",
       "2  DH - Báňský průmysl včetně těžby a zpracování ...   \n",
       "3                                   AN - Psychologie   \n",
       "4                                  JN - Stavebnictví   \n",
       "5                   JQ - Strojní zařízení a nástroje   \n",
       "6  JA - Elektronika a optoelektronika, elektrotec...   \n",
       "7                         JR - Ostatní strojírenství   \n",
       "8                   JQ - Strojní zařízení a nástroje   \n",
       "9                   JG - Hutnictví, kovové materiály   \n",
       "\n",
       "                                       Klíčová slova  \\\n",
       "0                                              Mines   \n",
       "1                                              Mines   \n",
       "2                                              Mines   \n",
       "3            communication methods of development EQ   \n",
       "4  accurate gauging of dimensions; building industry   \n",
       "5  vertical machining centre; high dynamics multi...   \n",
       "6  high DC current switching devices; electric dr...   \n",
       "7  foams; central distributions; transportation; ...   \n",
       "8                           sheet-fed offset presses   \n",
       "9         damage; heat exchange surface; pipe systém   \n",
       "\n",
       "                             Poskytovatel  Podpora ze SR  \n",
       "0                 ČBÚ - Český báňský úřad           2000  \n",
       "1                 ČBÚ - Český báňský úřad           1990  \n",
       "2                 ČBÚ - Český báňský úřad           1900  \n",
       "3  BIS - Bezpečnostní a informační služba            300  \n",
       "4   MPO - Ministerstvo průmyslu a obchodu           7214  \n",
       "5   MPO - Ministerstvo průmyslu a obchodu           6006  \n",
       "6   MPO - Ministerstvo průmyslu a obchodu           7394  \n",
       "7   MPO - Ministerstvo průmyslu a obchodu           1390  \n",
       "8   MPO - Ministerstvo průmyslu a obchodu          18800  \n",
       "9   MPO - Ministerstvo průmyslu a obchodu          27000  "
      ]
     },
     "execution_count": 4,
     "metadata": {},
     "output_type": "execute_result"
    }
   ],
   "source": [
    "df = df.reset_index()\n",
    "df = df.drop('index', axis=1)\n",
    "df[[\"Kód projektu\", \"Název česky\", \"Anotace česky\", \"Hlavní CEP obor\", \"Klíčová slova\", \"Poskytovatel\", \"Podpora ze SR\"]].head(10)"
   ]
  },
  {
   "cell_type": "code",
   "execution_count": 5,
   "metadata": {},
   "outputs": [
    {
     "name": "stdout",
     "output_type": "stream",
     "text": [
      "Index(['Kód projektu', 'Název česky', 'Název anglicky', 'Anotace česky',\n",
      "       'Anotace anglicky', 'Hlavní CEP obor', 'Vedlejší CEP obor',\n",
      "       'Další vedlejší CEP obor', 'Hlavní FORD obor', 'Vedlejší FORD obor',\n",
      "       'Další vedlejší FORD obor', 'Kategorie VaV', 'Hlavní účastníci',\n",
      "       'Další účastníci', 'Výčet právních forem účastníků',\n",
      "       'Výčet krajů účastníků', 'Výčet zemí účastníků',\n",
      "       'Podrobné informace o účastnících', 'Hlavní řešitelé', 'Další řešitelé',\n",
      "       'Klíčová slova', 'Výčet druhů dosažených výsledků', 'Poskytovatel',\n",
      "       'Program', 'Uznané náklady', 'Podpora ze SR',\n",
      "       'Ostatní veřejné zdroje fin.', 'Neveřejné zdroje fin.',\n",
      "       'Začátek řešení', 'Konec řešení', 'URL v Starfose', 'Relevance'],\n",
      "      dtype='object')\n",
      "\n",
      "Počet projektů bez anglického názvu: 1005\n",
      "Počet projektů bez anglické anotace: 8534\n",
      "Počet projektů bez klíčových slov: 9335\n"
     ]
    }
   ],
   "source": [
    "print(df.columns)\n",
    "print()\n",
    "print(f'Počet projektů bez anglického názvu: {df[\"Název anglicky\"].isna().sum()}')\n",
    "print(f'Počet projektů bez anglické anotace: {df[\"Anotace anglicky\"].isna().sum()}')\n",
    "print(f'Počet projektů bez klíčových slov: {df[\"Klíčová slova\"].isna().sum()}')"
   ]
  },
  {
   "cell_type": "code",
   "execution_count": 6,
   "metadata": {},
   "outputs": [
    {
     "data": {
      "text/plain": [
       "array(['ČBÚ - Český báňský úřad',\n",
       "       'BIS - Bezpečnostní a informační služba',\n",
       "       'MPO - Ministerstvo průmyslu a obchodu',\n",
       "       'GA ČR - Grantová agentura České republiky',\n",
       "       'MPSV - Ministerstvo práce a sociálních věcí',\n",
       "       'AV ČR - Akademie věd České republiky',\n",
       "       'SÚJB - Státní úřad pro jadernou bezpečnost',\n",
       "       'MŠMT - Ministerstvo školství, mládeže a tělovýchovy',\n",
       "       'MZ - Ministerstvo zdravotnictví', 'MO - Ministerstvo obrany',\n",
       "       'MZV - Ministerstvo zahraničních věcí', 'MV - Ministerstvo vnitra',\n",
       "       'MŽP - Ministerstvo životního prostředí',\n",
       "       'NBÚ - Národní bezpečnostní úřad',\n",
       "       'ČÚZK - Český úřad zeměměřický a katastrální ',\n",
       "       'MD - Ministerstvo dopravy', 'MI - Ministerstvo informatiky',\n",
       "       'MK - Ministerstvo kultury', 'MZe - Ministerstvo zemědělství',\n",
       "       'MH - Ministerstvo hospodářství',\n",
       "       'MS - Ministerstvo spravedlnosti', 'KHK - Královéhradecký kraj',\n",
       "       'KUL - Ústecký kraj', 'MMR - Ministerstvo pro místní rozvoj',\n",
       "       'ÚřVl ČR - Úřad vlády',\n",
       "       'TA ČR - Technologická agentura České republiky',\n",
       "       'KHP - Hlavní město Praha', 'KLI - Liberecký kraj',\n",
       "       'KKV - Karlovarský kraj'], dtype=object)"
      ]
     },
     "execution_count": 6,
     "metadata": {},
     "output_type": "execute_result"
    }
   ],
   "source": [
    "df[\"Poskytovatel\"].unique()"
   ]
  },
  {
   "cell_type": "code",
   "execution_count": 7,
   "metadata": {},
   "outputs": [
    {
     "name": "stdout",
     "output_type": "stream",
     "text": [
      "Dynamics of mine gases emissions from underground spaces of closed down mines\n",
      "The objective of the project is to develop the methodology of measurement, performing its verification on the basic of practical measurements in cadastral territory of Orlova Town and comparing the results with measurements of concentration of gases in sThere will be updated the present legal regulations and the methodology for building assessment in areas of mine gases emissions to the surface. The aim is to get scientific based input materials for drafting laws for safety at work and safety at trafficin mines and also for carrying out of supervision of the state mining authority\n"
     ]
    }
   ],
   "source": [
    "print(df['Název anglicky'][0])\n",
    "print(df['Anotace anglicky'][0])\n",
    "\n",
    "reduced_df = df[['Název anglicky', 'Anotace anglicky', 'Klíčová slova']]"
   ]
  },
  {
   "cell_type": "code",
   "execution_count": 8,
   "metadata": {},
   "outputs": [
    {
     "name": "stderr",
     "output_type": "stream",
     "text": [
      "/home/fassty/anaconda3/envs/deep_learning/lib/python3.7/site-packages/ipykernel_launcher.py:1: SettingWithCopyWarning: \n",
      "A value is trying to be set on a copy of a slice from a DataFrame.\n",
      "Try using .loc[row_indexer,col_indexer] = value instead\n",
      "\n",
      "See the caveats in the documentation: https://pandas.pydata.org/pandas-docs/stable/user_guide/indexing.html#returning-a-view-versus-a-copy\n",
      "  \"\"\"Entry point for launching an IPython kernel.\n"
     ]
    }
   ],
   "source": [
    "reduced_df['concat'] = reduced_df.iloc[:, 0] + ' ' + reduced_df.iloc[:, 1] + ' ' + reduced_df.iloc[:, 2]"
   ]
  },
  {
   "cell_type": "code",
   "execution_count": 9,
   "metadata": {},
   "outputs": [
    {
     "name": "stderr",
     "output_type": "stream",
     "text": [
      "/home/fassty/anaconda3/envs/deep_learning/lib/python3.7/site-packages/ipykernel_launcher.py:1: SettingWithCopyWarning: \n",
      "A value is trying to be set on a copy of a slice from a DataFrame.\n",
      "Try using .loc[row_indexer,col_indexer] = value instead\n",
      "\n",
      "See the caveats in the documentation: https://pandas.pydata.org/pandas-docs/stable/user_guide/indexing.html#returning-a-view-versus-a-copy\n",
      "  \"\"\"Entry point for launching an IPython kernel.\n"
     ]
    }
   ],
   "source": [
    "reduced_df['concat'] = reduced_df['concat'].astype(str)"
   ]
  },
  {
   "cell_type": "code",
   "execution_count": 10,
   "metadata": {},
   "outputs": [
    {
     "name": "stderr",
     "output_type": "stream",
     "text": [
      "/home/fassty/anaconda3/envs/deep_learning/lib/python3.7/site-packages/ipykernel_launcher.py:1: SettingWithCopyWarning: \n",
      "A value is trying to be set on a copy of a slice from a DataFrame.\n",
      "Try using .loc[row_indexer,col_indexer] = value instead\n",
      "\n",
      "See the caveats in the documentation: https://pandas.pydata.org/pandas-docs/stable/user_guide/indexing.html#returning-a-view-versus-a-copy\n",
      "  \"\"\"Entry point for launching an IPython kernel.\n"
     ]
    }
   ],
   "source": [
    "reduced_df['concat'] = reduced_df['concat'].apply(lambda x: x.lower())"
   ]
  },
  {
   "cell_type": "code",
   "execution_count": 11,
   "metadata": {},
   "outputs": [
    {
     "name": "stderr",
     "output_type": "stream",
     "text": [
      "/home/fassty/anaconda3/envs/deep_learning/lib/python3.7/site-packages/ipykernel_launcher.py:3: SettingWithCopyWarning: \n",
      "A value is trying to be set on a copy of a slice from a DataFrame.\n",
      "Try using .loc[row_indexer,col_indexer] = value instead\n",
      "\n",
      "See the caveats in the documentation: https://pandas.pydata.org/pandas-docs/stable/user_guide/indexing.html#returning-a-view-versus-a-copy\n",
      "  This is separate from the ipykernel package so we can avoid doing imports until\n"
     ]
    },
    {
     "data": {
      "text/html": [
       "<div>\n",
       "<style scoped>\n",
       "    .dataframe tbody tr th:only-of-type {\n",
       "        vertical-align: middle;\n",
       "    }\n",
       "\n",
       "    .dataframe tbody tr th {\n",
       "        vertical-align: top;\n",
       "    }\n",
       "\n",
       "    .dataframe thead th {\n",
       "        text-align: right;\n",
       "    }\n",
       "</style>\n",
       "<table border=\"1\" class=\"dataframe\">\n",
       "  <thead>\n",
       "    <tr style=\"text-align: right;\">\n",
       "      <th></th>\n",
       "      <th>Název anglicky</th>\n",
       "      <th>Anotace anglicky</th>\n",
       "      <th>Klíčová slova</th>\n",
       "      <th>concat</th>\n",
       "    </tr>\n",
       "  </thead>\n",
       "  <tbody>\n",
       "    <tr>\n",
       "      <th>0</th>\n",
       "      <td>Dynamics of mine gases emissions from undergro...</td>\n",
       "      <td>The objective of the project is to develop the...</td>\n",
       "      <td>Mines</td>\n",
       "      <td>dynamics of mine gases emissions from undergro...</td>\n",
       "    </tr>\n",
       "    <tr>\n",
       "      <th>1</th>\n",
       "      <td>Elimination of carboniferous mountains gas flo...</td>\n",
       "      <td>The subject of this project is methodology des...</td>\n",
       "      <td>Mines</td>\n",
       "      <td>elimination of carboniferous mountains gas flo...</td>\n",
       "    </tr>\n",
       "    <tr>\n",
       "      <th>2</th>\n",
       "      <td>Determination of the technical requirements fo...</td>\n",
       "      <td>Determination of the corresponding technical r...</td>\n",
       "      <td>Mines</td>\n",
       "      <td>determination of the technical requirements fo...</td>\n",
       "    </tr>\n",
       "    <tr>\n",
       "      <th>3</th>\n",
       "      <td>complex of approaches: development of communic...</td>\n",
       "      <td>compex of approaches to the training and devel...</td>\n",
       "      <td>communication methods of development EQ</td>\n",
       "      <td>complex of approaches  development of communic...</td>\n",
       "    </tr>\n",
       "    <tr>\n",
       "      <th>4</th>\n",
       "      <td>Research of new 2D image processing methods us...</td>\n",
       "      <td>An objective of the project is to enhance the ...</td>\n",
       "      <td>accurate gauging of dimensions; building industry</td>\n",
       "      <td>research of new 2d image processing methods us...</td>\n",
       "    </tr>\n",
       "    <tr>\n",
       "      <th>...</th>\n",
       "      <td>...</td>\n",
       "      <td>...</td>\n",
       "      <td>...</td>\n",
       "      <td>...</td>\n",
       "    </tr>\n",
       "    <tr>\n",
       "      <th>69352</th>\n",
       "      <td>Mechanisms and Impacts of the Shoah (Holocaust)</td>\n",
       "      <td>The term Shoah (Holocaust) marks mass persecut...</td>\n",
       "      <td>Mechanisms of Shoah (Holocaust) Impacts of Sho...</td>\n",
       "      <td>mechanisms and impacts of the shoah  holocaust...</td>\n",
       "    </tr>\n",
       "    <tr>\n",
       "      <th>69353</th>\n",
       "      <td>The Perspectives of the Western Balkans in the...</td>\n",
       "      <td>The central aim of the complex analysis of the...</td>\n",
       "      <td>Western Balkans ethnic relations modernization...</td>\n",
       "      <td>the perspectives of the western balkans in the...</td>\n",
       "    </tr>\n",
       "    <tr>\n",
       "      <th>69354</th>\n",
       "      <td>Analysis of demographic changes of the rising ...</td>\n",
       "      <td>Core of the project is creation of a database ...</td>\n",
       "      <td>historical demography Prague database of inhab...</td>\n",
       "      <td>analysis of demographic changes of the rising ...</td>\n",
       "    </tr>\n",
       "    <tr>\n",
       "      <th>69355</th>\n",
       "      <td>Edvard Beneš, Germans and Germany</td>\n",
       "      <td>The proposed project &amp;quot;Edvard Beneš, Germa...</td>\n",
       "      <td>Edvard Beneš Germans Germany History</td>\n",
       "      <td>edvard beneš  germans and germany the proposed...</td>\n",
       "    </tr>\n",
       "    <tr>\n",
       "      <th>69356</th>\n",
       "      <td>Geographical structuring of avian blood parasi...</td>\n",
       "      <td>Avian haematozoan blood parasites (malaria par...</td>\n",
       "      <td>avian malaria Plasmodium Haemoproteus Leucocyt...</td>\n",
       "      <td>geographical structuring of avian blood parasi...</td>\n",
       "    </tr>\n",
       "  </tbody>\n",
       "</table>\n",
       "<p>69357 rows × 4 columns</p>\n",
       "</div>"
      ],
      "text/plain": [
       "                                          Název anglicky  \\\n",
       "0      Dynamics of mine gases emissions from undergro...   \n",
       "1      Elimination of carboniferous mountains gas flo...   \n",
       "2      Determination of the technical requirements fo...   \n",
       "3      complex of approaches: development of communic...   \n",
       "4      Research of new 2D image processing methods us...   \n",
       "...                                                  ...   \n",
       "69352    Mechanisms and Impacts of the Shoah (Holocaust)   \n",
       "69353  The Perspectives of the Western Balkans in the...   \n",
       "69354  Analysis of demographic changes of the rising ...   \n",
       "69355                  Edvard Beneš, Germans and Germany   \n",
       "69356  Geographical structuring of avian blood parasi...   \n",
       "\n",
       "                                        Anotace anglicky  \\\n",
       "0      The objective of the project is to develop the...   \n",
       "1      The subject of this project is methodology des...   \n",
       "2      Determination of the corresponding technical r...   \n",
       "3      compex of approaches to the training and devel...   \n",
       "4      An objective of the project is to enhance the ...   \n",
       "...                                                  ...   \n",
       "69352  The term Shoah (Holocaust) marks mass persecut...   \n",
       "69353  The central aim of the complex analysis of the...   \n",
       "69354  Core of the project is creation of a database ...   \n",
       "69355  The proposed project &quot;Edvard Beneš, Germa...   \n",
       "69356  Avian haematozoan blood parasites (malaria par...   \n",
       "\n",
       "                                           Klíčová slova  \\\n",
       "0                                                  Mines   \n",
       "1                                                  Mines   \n",
       "2                                                  Mines   \n",
       "3                communication methods of development EQ   \n",
       "4      accurate gauging of dimensions; building industry   \n",
       "...                                                  ...   \n",
       "69352  Mechanisms of Shoah (Holocaust) Impacts of Sho...   \n",
       "69353  Western Balkans ethnic relations modernization...   \n",
       "69354  historical demography Prague database of inhab...   \n",
       "69355               Edvard Beneš Germans Germany History   \n",
       "69356  avian malaria Plasmodium Haemoproteus Leucocyt...   \n",
       "\n",
       "                                                  concat  \n",
       "0      dynamics of mine gases emissions from undergro...  \n",
       "1      elimination of carboniferous mountains gas flo...  \n",
       "2      determination of the technical requirements fo...  \n",
       "3      complex of approaches  development of communic...  \n",
       "4      research of new 2d image processing methods us...  \n",
       "...                                                  ...  \n",
       "69352  mechanisms and impacts of the shoah  holocaust...  \n",
       "69353  the perspectives of the western balkans in the...  \n",
       "69354  analysis of demographic changes of the rising ...  \n",
       "69355  edvard beneš  germans and germany the proposed...  \n",
       "69356  geographical structuring of avian blood parasi...  \n",
       "\n",
       "[69357 rows x 4 columns]"
      ]
     },
     "execution_count": 11,
     "metadata": {},
     "output_type": "execute_result"
    }
   ],
   "source": [
    "from string import punctuation\n",
    "import re\n",
    "reduced_df['concat'] = reduced_df['concat'].apply(lambda x: re.sub(r\"[{}]\".format(punctuation), ' ', x))\n",
    "\n",
    "reduced_df"
   ]
  },
  {
   "cell_type": "markdown",
   "metadata": {},
   "source": [
    "# Ways of vectorizing the data\n",
    "\n",
    "Lemmatize -> vectorize\n",
    "\n",
    "    - Word2Vec\n",
    "    - TF-IDF\n",
    "    - BERT\n",
    "    - GAN\n",
    "\n",
    "Can BERT lemmatize?\n",
    "What other ways of lemmatizing?\n",
    "\n",
    "Downloading everything from nltk, might reduce later"
   ]
  },
  {
   "cell_type": "code",
   "execution_count": 12,
   "metadata": {},
   "outputs": [],
   "source": [
    "import nltk"
   ]
  },
  {
   "cell_type": "code",
   "execution_count": 13,
   "metadata": {},
   "outputs": [
    {
     "name": "stderr",
     "output_type": "stream",
     "text": [
      "/home/fassty/anaconda3/envs/deep_learning/lib/python3.7/site-packages/ipykernel_launcher.py:7: SettingWithCopyWarning: \n",
      "A value is trying to be set on a copy of a slice from a DataFrame.\n",
      "Try using .loc[row_indexer,col_indexer] = value instead\n",
      "\n",
      "See the caveats in the documentation: https://pandas.pydata.org/pandas-docs/stable/user_guide/indexing.html#returning-a-view-versus-a-copy\n",
      "  import sys\n"
     ]
    }
   ],
   "source": [
    "tokenizer = nltk.tokenize.WhitespaceTokenizer()\n",
    "lemmatizer = nltk.stem.WordNetLemmatizer()\n",
    "\n",
    "def lemmatize_text(text):\n",
    "    return [lemmatizer.lemmatize(w) for w in tokenizer.tokenize(text)]\n",
    "\n",
    "reduced_df['lemmatized'] = reduced_df['concat'].apply(lemmatize_text)"
   ]
  },
  {
   "cell_type": "code",
   "execution_count": 14,
   "metadata": {},
   "outputs": [
    {
     "data": {
      "text/plain": [
       "0    [dynamic, of, mine, gas, emission, from, under...\n",
       "1    [elimination, of, carboniferous, mountain, gas...\n",
       "2    [determination, of, the, technical, requiremen...\n",
       "3    [complex, of, approach, development, of, commu...\n",
       "4    [research, of, new, 2d, image, processing, met...\n",
       "5    [research, and, development, of, a, vertical, ...\n",
       "6    [modern, project, method, of, high, dc, curren...\n",
       "7    [development, of, equipment, for, transportati...\n",
       "8    [modernization, of, technology, process, and, ...\n",
       "9    [development, of, method, technology, and, equ...\n",
       "Name: lemmatized, dtype: object"
      ]
     },
     "execution_count": 14,
     "metadata": {},
     "output_type": "execute_result"
    }
   ],
   "source": [
    "reduced_df['lemmatized'].head(10)"
   ]
  },
  {
   "cell_type": "code",
   "execution_count": 15,
   "metadata": {},
   "outputs": [
    {
     "name": "stderr",
     "output_type": "stream",
     "text": [
      "/home/fassty/anaconda3/envs/deep_learning/lib/python3.7/site-packages/ipykernel_launcher.py:1: SettingWithCopyWarning: \n",
      "A value is trying to be set on a copy of a slice from a DataFrame.\n",
      "Try using .loc[row_indexer,col_indexer] = value instead\n",
      "\n",
      "See the caveats in the documentation: https://pandas.pydata.org/pandas-docs/stable/user_guide/indexing.html#returning-a-view-versus-a-copy\n",
      "  \"\"\"Entry point for launching an IPython kernel.\n"
     ]
    }
   ],
   "source": [
    "reduced_df['lemmatized'] = reduced_df['lemmatized'].apply(lambda x: ' '.join(x))"
   ]
  },
  {
   "cell_type": "markdown",
   "metadata": {},
   "source": [
    "# TF-IDF + KMeans"
   ]
  },
  {
   "cell_type": "code",
   "execution_count": 16,
   "metadata": {},
   "outputs": [],
   "source": [
    "from sklearn.feature_extraction.text import TfidfVectorizer"
   ]
  },
  {
   "cell_type": "code",
   "execution_count": 17,
   "metadata": {},
   "outputs": [],
   "source": [
    "transformer = TfidfVectorizer()\n",
    "vectorized = transformer.fit_transform(reduced_df['lemmatized'])"
   ]
  },
  {
   "cell_type": "code",
   "execution_count": 18,
   "metadata": {},
   "outputs": [
    {
     "data": {
      "text/plain": [
       "(69357, 120068)"
      ]
     },
     "execution_count": 18,
     "metadata": {},
     "output_type": "execute_result"
    }
   ],
   "source": [
    "vectorized.shape"
   ]
  },
  {
   "cell_type": "code",
   "execution_count": 19,
   "metadata": {},
   "outputs": [],
   "source": [
    "from nltk.cluster import KMeansClusterer, euclidean_distance, cosine_distance"
   ]
  },
  {
   "cell_type": "code",
   "execution_count": 20,
   "metadata": {},
   "outputs": [
    {
     "name": "stderr",
     "output_type": "stream",
     "text": [
      "/home/fassty/anaconda3/envs/deep_learning/lib/python3.7/site-packages/sklearn/utils/deprecation.py:144: FutureWarning: The sklearn.metrics.classification module is  deprecated in version 0.22 and will be removed in version 0.24. The corresponding classes / functions should instead be imported from sklearn.metrics. Anything that cannot be imported from sklearn.metrics is now part of the private API.\n",
      "  warnings.warn(message, FutureWarning)\n"
     ]
    }
   ],
   "source": [
    "from sklearn.cluster import KMeans\n",
    "from yellowbrick.cluster import KElbowVisualizer"
   ]
  },
  {
   "cell_type": "code",
   "execution_count": 60,
   "metadata": {},
   "outputs": [],
   "source": [
    "#model = KMeans()\n",
    "#visualizer = KElbowVisualizer(model, k=(4,12))\n",
    "\n",
    "#visualizer.fit(vectorized)\n",
    "#visualizer.show()"
   ]
  },
  {
   "cell_type": "code",
   "execution_count": 21,
   "metadata": {},
   "outputs": [
    {
     "name": "stderr",
     "output_type": "stream",
     "text": [
      "/home/fassty/anaconda3/envs/deep_learning/lib/python3.7/site-packages/ipykernel_launcher.py:2: DeprecationWarning: This function is deprecated. Please call randint(0, 69357 + 1) instead\n",
      "  \n"
     ]
    }
   ],
   "source": [
    "import numpy as np\n",
    "sample = vectorized[np.random.random_integers(0, vectorized.shape[0], 1000), :]"
   ]
  },
  {
   "cell_type": "code",
   "execution_count": 62,
   "metadata": {},
   "outputs": [
    {
     "data": {
      "image/png": "[encoded data removed]",
      "text/plain": [
       "<Figure size 576x396 with 2 Axes>"
      ]
     },
     "metadata": {},
     "output_type": "display_data"
    },
    {
     "data": {
      "text/plain": [
       "<matplotlib.axes._subplots.AxesSubplot at 0x7f105dee6510>"
      ]
     },
     "execution_count": 62,
     "metadata": {},
     "output_type": "execute_result"
    }
   ],
   "source": [
    "model = KMeans()\n",
    "visualizer = KElbowVisualizer(model, k=(4, 40))\n",
    "\n",
    "visualizer.fit(sample)\n",
    "visualizer.show()"
   ]
  },
  {
   "cell_type": "markdown",
   "metadata": {},
   "source": [
    "# Word2Vec + K-Means vs Hierarchical vs Agglomerative"
   ]
  },
  {
   "cell_type": "code",
   "execution_count": 22,
   "metadata": {},
   "outputs": [],
   "source": [
    "from gensim.models import Word2Vec\n",
    "import gensim\n",
    "\n",
    "from sklearn.decomposition import PCA\n",
    "from sklearn.cluster import KMeans\n",
    "from scipy.cluster import hierarchy\n",
    "from sklearn.cluster import AgglomerativeClustering\n",
    "\n",
    "from sklearn import cluster\n",
    "from sklearn import metrics"
   ]
  },
  {
   "cell_type": "code",
   "execution_count": 23,
   "metadata": {},
   "outputs": [],
   "source": [
    "# Download Google corpus\n",
    "import gensim.downloader as api"
   ]
  },
  {
   "cell_type": "code",
   "execution_count": 24,
   "metadata": {},
   "outputs": [],
   "source": [
    "model = api.load('glove-wiki-gigaword-50')"
   ]
  },
  {
   "cell_type": "code",
   "execution_count": 25,
   "metadata": {},
   "outputs": [
    {
     "data": {
      "text/plain": [
       "50"
      ]
     },
     "execution_count": 25,
     "metadata": {},
     "output_type": "execute_result"
    }
   ],
   "source": [
    "model.vector_size"
   ]
  },
  {
   "cell_type": "code",
   "execution_count": 26,
   "metadata": {},
   "outputs": [],
   "source": [
    "results = set()\n",
    "reduced_df['lemmatized'].str.lower().str.split().apply(results.update)\n",
    "words = list(results)"
   ]
  },
  {
   "cell_type": "code",
   "execution_count": 27,
   "metadata": {},
   "outputs": [
    {
     "data": {
      "text/html": [
       "<div>\n",
       "<style scoped>\n",
       "    .dataframe tbody tr th:only-of-type {\n",
       "        vertical-align: middle;\n",
       "    }\n",
       "\n",
       "    .dataframe tbody tr th {\n",
       "        vertical-align: top;\n",
       "    }\n",
       "\n",
       "    .dataframe thead th {\n",
       "        text-align: right;\n",
       "    }\n",
       "</style>\n",
       "<table border=\"1\" class=\"dataframe\">\n",
       "  <thead>\n",
       "    <tr style=\"text-align: right;\">\n",
       "      <th></th>\n",
       "      <th>0</th>\n",
       "      <th>1</th>\n",
       "      <th>2</th>\n",
       "      <th>3</th>\n",
       "      <th>4</th>\n",
       "      <th>5</th>\n",
       "      <th>6</th>\n",
       "      <th>7</th>\n",
       "      <th>8</th>\n",
       "      <th>9</th>\n",
       "      <th>...</th>\n",
       "      <th>40</th>\n",
       "      <th>41</th>\n",
       "      <th>42</th>\n",
       "      <th>43</th>\n",
       "      <th>44</th>\n",
       "      <th>45</th>\n",
       "      <th>46</th>\n",
       "      <th>47</th>\n",
       "      <th>48</th>\n",
       "      <th>49</th>\n",
       "    </tr>\n",
       "  </thead>\n",
       "  <tbody>\n",
       "    <tr>\n",
       "      <th>expanders</th>\n",
       "      <td>0.254700</td>\n",
       "      <td>-0.009547</td>\n",
       "      <td>0.95430</td>\n",
       "      <td>-0.943480</td>\n",
       "      <td>0.50634</td>\n",
       "      <td>0.940310</td>\n",
       "      <td>0.608480</td>\n",
       "      <td>-0.63723</td>\n",
       "      <td>0.811340</td>\n",
       "      <td>-0.016615</td>\n",
       "      <td>...</td>\n",
       "      <td>0.45184</td>\n",
       "      <td>-0.90689</td>\n",
       "      <td>-0.406230</td>\n",
       "      <td>0.191840</td>\n",
       "      <td>0.420940</td>\n",
       "      <td>-0.286210</td>\n",
       "      <td>0.940670</td>\n",
       "      <td>-0.165950</td>\n",
       "      <td>-1.644300</td>\n",
       "      <td>-0.68110</td>\n",
       "    </tr>\n",
       "    <tr>\n",
       "      <th>alkyne</th>\n",
       "      <td>1.024500</td>\n",
       "      <td>0.175240</td>\n",
       "      <td>-0.47022</td>\n",
       "      <td>0.489230</td>\n",
       "      <td>0.61698</td>\n",
       "      <td>0.924550</td>\n",
       "      <td>0.665750</td>\n",
       "      <td>0.69476</td>\n",
       "      <td>-0.224720</td>\n",
       "      <td>0.392930</td>\n",
       "      <td>...</td>\n",
       "      <td>1.47810</td>\n",
       "      <td>-0.89996</td>\n",
       "      <td>-0.639410</td>\n",
       "      <td>0.769150</td>\n",
       "      <td>0.911720</td>\n",
       "      <td>-0.497170</td>\n",
       "      <td>0.094198</td>\n",
       "      <td>1.463800</td>\n",
       "      <td>0.265180</td>\n",
       "      <td>0.47253</td>\n",
       "    </tr>\n",
       "    <tr>\n",
       "      <th>127</th>\n",
       "      <td>-0.056743</td>\n",
       "      <td>0.227290</td>\n",
       "      <td>1.69710</td>\n",
       "      <td>-0.378860</td>\n",
       "      <td>0.13232</td>\n",
       "      <td>0.323290</td>\n",
       "      <td>0.318740</td>\n",
       "      <td>-0.79451</td>\n",
       "      <td>0.106130</td>\n",
       "      <td>-0.117930</td>\n",
       "      <td>...</td>\n",
       "      <td>-0.43669</td>\n",
       "      <td>-0.30830</td>\n",
       "      <td>1.413100</td>\n",
       "      <td>0.054108</td>\n",
       "      <td>-1.074800</td>\n",
       "      <td>1.282200</td>\n",
       "      <td>-0.605110</td>\n",
       "      <td>-0.037847</td>\n",
       "      <td>0.213650</td>\n",
       "      <td>-0.23329</td>\n",
       "    </tr>\n",
       "    <tr>\n",
       "      <th>territoriality</th>\n",
       "      <td>-0.150590</td>\n",
       "      <td>0.369410</td>\n",
       "      <td>-0.97944</td>\n",
       "      <td>0.176820</td>\n",
       "      <td>0.13102</td>\n",
       "      <td>0.761950</td>\n",
       "      <td>1.493300</td>\n",
       "      <td>-0.48688</td>\n",
       "      <td>0.590500</td>\n",
       "      <td>0.089057</td>\n",
       "      <td>...</td>\n",
       "      <td>0.79761</td>\n",
       "      <td>0.38869</td>\n",
       "      <td>0.317550</td>\n",
       "      <td>0.928650</td>\n",
       "      <td>-0.380470</td>\n",
       "      <td>-0.808070</td>\n",
       "      <td>0.322360</td>\n",
       "      <td>0.763480</td>\n",
       "      <td>-0.063234</td>\n",
       "      <td>-0.10698</td>\n",
       "    </tr>\n",
       "    <tr>\n",
       "      <th>1039</th>\n",
       "      <td>0.163590</td>\n",
       "      <td>-0.148970</td>\n",
       "      <td>0.20756</td>\n",
       "      <td>-0.323990</td>\n",
       "      <td>-0.77973</td>\n",
       "      <td>-0.071781</td>\n",
       "      <td>1.045300</td>\n",
       "      <td>0.32662</td>\n",
       "      <td>-0.638400</td>\n",
       "      <td>-0.418680</td>\n",
       "      <td>...</td>\n",
       "      <td>0.26529</td>\n",
       "      <td>-0.27201</td>\n",
       "      <td>0.094023</td>\n",
       "      <td>0.513350</td>\n",
       "      <td>-0.671620</td>\n",
       "      <td>0.407600</td>\n",
       "      <td>0.761390</td>\n",
       "      <td>-0.437940</td>\n",
       "      <td>-0.102150</td>\n",
       "      <td>0.14072</td>\n",
       "    </tr>\n",
       "    <tr>\n",
       "      <th>...</th>\n",
       "      <td>...</td>\n",
       "      <td>...</td>\n",
       "      <td>...</td>\n",
       "      <td>...</td>\n",
       "      <td>...</td>\n",
       "      <td>...</td>\n",
       "      <td>...</td>\n",
       "      <td>...</td>\n",
       "      <td>...</td>\n",
       "      <td>...</td>\n",
       "      <td>...</td>\n",
       "      <td>...</td>\n",
       "      <td>...</td>\n",
       "      <td>...</td>\n",
       "      <td>...</td>\n",
       "      <td>...</td>\n",
       "      <td>...</td>\n",
       "      <td>...</td>\n",
       "      <td>...</td>\n",
       "      <td>...</td>\n",
       "      <td>...</td>\n",
       "    </tr>\n",
       "    <tr>\n",
       "      <th>cashier</th>\n",
       "      <td>0.019580</td>\n",
       "      <td>-0.621570</td>\n",
       "      <td>0.30474</td>\n",
       "      <td>-0.387600</td>\n",
       "      <td>1.13110</td>\n",
       "      <td>-0.692660</td>\n",
       "      <td>-0.430300</td>\n",
       "      <td>0.34195</td>\n",
       "      <td>0.090861</td>\n",
       "      <td>-0.470930</td>\n",
       "      <td>...</td>\n",
       "      <td>0.50333</td>\n",
       "      <td>0.58674</td>\n",
       "      <td>-0.543730</td>\n",
       "      <td>0.488260</td>\n",
       "      <td>-0.005158</td>\n",
       "      <td>-1.336900</td>\n",
       "      <td>-0.008949</td>\n",
       "      <td>-0.141420</td>\n",
       "      <td>0.725090</td>\n",
       "      <td>0.44550</td>\n",
       "    </tr>\n",
       "    <tr>\n",
       "      <th>venous</th>\n",
       "      <td>1.606600</td>\n",
       "      <td>1.062200</td>\n",
       "      <td>0.32464</td>\n",
       "      <td>-0.359490</td>\n",
       "      <td>-2.31980</td>\n",
       "      <td>0.840520</td>\n",
       "      <td>2.049300</td>\n",
       "      <td>0.99048</td>\n",
       "      <td>1.274100</td>\n",
       "      <td>0.102200</td>\n",
       "      <td>...</td>\n",
       "      <td>0.99883</td>\n",
       "      <td>0.44798</td>\n",
       "      <td>-0.419550</td>\n",
       "      <td>1.376600</td>\n",
       "      <td>-0.332950</td>\n",
       "      <td>-0.348040</td>\n",
       "      <td>0.983840</td>\n",
       "      <td>0.085752</td>\n",
       "      <td>1.336900</td>\n",
       "      <td>-1.49480</td>\n",
       "    </tr>\n",
       "    <tr>\n",
       "      <th>nith</th>\n",
       "      <td>0.553960</td>\n",
       "      <td>0.200130</td>\n",
       "      <td>-0.12464</td>\n",
       "      <td>-0.715830</td>\n",
       "      <td>-0.86489</td>\n",
       "      <td>-0.615160</td>\n",
       "      <td>-0.020616</td>\n",
       "      <td>0.42299</td>\n",
       "      <td>0.953960</td>\n",
       "      <td>-0.002491</td>\n",
       "      <td>...</td>\n",
       "      <td>-0.12258</td>\n",
       "      <td>-0.56408</td>\n",
       "      <td>-0.353370</td>\n",
       "      <td>-0.539410</td>\n",
       "      <td>-1.567600</td>\n",
       "      <td>-0.092184</td>\n",
       "      <td>0.980020</td>\n",
       "      <td>-0.142490</td>\n",
       "      <td>0.566140</td>\n",
       "      <td>-1.38360</td>\n",
       "    </tr>\n",
       "    <tr>\n",
       "      <th>redefine</th>\n",
       "      <td>0.236430</td>\n",
       "      <td>-0.474710</td>\n",
       "      <td>-0.35700</td>\n",
       "      <td>-0.562070</td>\n",
       "      <td>0.17037</td>\n",
       "      <td>0.412150</td>\n",
       "      <td>0.337600</td>\n",
       "      <td>-0.17389</td>\n",
       "      <td>0.092593</td>\n",
       "      <td>0.251380</td>\n",
       "      <td>...</td>\n",
       "      <td>-0.45424</td>\n",
       "      <td>-0.95035</td>\n",
       "      <td>0.647310</td>\n",
       "      <td>-0.178700</td>\n",
       "      <td>-0.714360</td>\n",
       "      <td>0.360730</td>\n",
       "      <td>0.845240</td>\n",
       "      <td>0.004022</td>\n",
       "      <td>-0.005183</td>\n",
       "      <td>0.33183</td>\n",
       "    </tr>\n",
       "    <tr>\n",
       "      <th>fdg</th>\n",
       "      <td>0.355120</td>\n",
       "      <td>-0.411710</td>\n",
       "      <td>0.20799</td>\n",
       "      <td>0.083477</td>\n",
       "      <td>-0.94009</td>\n",
       "      <td>-0.191070</td>\n",
       "      <td>0.493830</td>\n",
       "      <td>-0.95379</td>\n",
       "      <td>0.818950</td>\n",
       "      <td>0.761510</td>\n",
       "      <td>...</td>\n",
       "      <td>0.84898</td>\n",
       "      <td>-0.35541</td>\n",
       "      <td>-0.214390</td>\n",
       "      <td>0.932550</td>\n",
       "      <td>0.407980</td>\n",
       "      <td>0.134230</td>\n",
       "      <td>0.338310</td>\n",
       "      <td>-0.417860</td>\n",
       "      <td>0.483240</td>\n",
       "      <td>0.24165</td>\n",
       "    </tr>\n",
       "  </tbody>\n",
       "</table>\n",
       "<p>100 rows × 50 columns</p>\n",
       "</div>"
      ],
      "text/plain": [
       "                      0         1        2         3        4         5   \\\n",
       "expanders       0.254700 -0.009547  0.95430 -0.943480  0.50634  0.940310   \n",
       "alkyne          1.024500  0.175240 -0.47022  0.489230  0.61698  0.924550   \n",
       "127            -0.056743  0.227290  1.69710 -0.378860  0.13232  0.323290   \n",
       "territoriality -0.150590  0.369410 -0.97944  0.176820  0.13102  0.761950   \n",
       "1039            0.163590 -0.148970  0.20756 -0.323990 -0.77973 -0.071781   \n",
       "...                  ...       ...      ...       ...      ...       ...   \n",
       "cashier         0.019580 -0.621570  0.30474 -0.387600  1.13110 -0.692660   \n",
       "venous          1.606600  1.062200  0.32464 -0.359490 -2.31980  0.840520   \n",
       "nith            0.553960  0.200130 -0.12464 -0.715830 -0.86489 -0.615160   \n",
       "redefine        0.236430 -0.474710 -0.35700 -0.562070  0.17037  0.412150   \n",
       "fdg             0.355120 -0.411710  0.20799  0.083477 -0.94009 -0.191070   \n",
       "\n",
       "                      6        7         8         9   ...       40       41  \\\n",
       "expanders       0.608480 -0.63723  0.811340 -0.016615  ...  0.45184 -0.90689   \n",
       "alkyne          0.665750  0.69476 -0.224720  0.392930  ...  1.47810 -0.89996   \n",
       "127             0.318740 -0.79451  0.106130 -0.117930  ... -0.43669 -0.30830   \n",
       "territoriality  1.493300 -0.48688  0.590500  0.089057  ...  0.79761  0.38869   \n",
       "1039            1.045300  0.32662 -0.638400 -0.418680  ...  0.26529 -0.27201   \n",
       "...                  ...      ...       ...       ...  ...      ...      ...   \n",
       "cashier        -0.430300  0.34195  0.090861 -0.470930  ...  0.50333  0.58674   \n",
       "venous          2.049300  0.99048  1.274100  0.102200  ...  0.99883  0.44798   \n",
       "nith           -0.020616  0.42299  0.953960 -0.002491  ... -0.12258 -0.56408   \n",
       "redefine        0.337600 -0.17389  0.092593  0.251380  ... -0.45424 -0.95035   \n",
       "fdg             0.493830 -0.95379  0.818950  0.761510  ...  0.84898 -0.35541   \n",
       "\n",
       "                      42        43        44        45        46        47  \\\n",
       "expanders      -0.406230  0.191840  0.420940 -0.286210  0.940670 -0.165950   \n",
       "alkyne         -0.639410  0.769150  0.911720 -0.497170  0.094198  1.463800   \n",
       "127             1.413100  0.054108 -1.074800  1.282200 -0.605110 -0.037847   \n",
       "territoriality  0.317550  0.928650 -0.380470 -0.808070  0.322360  0.763480   \n",
       "1039            0.094023  0.513350 -0.671620  0.407600  0.761390 -0.437940   \n",
       "...                  ...       ...       ...       ...       ...       ...   \n",
       "cashier        -0.543730  0.488260 -0.005158 -1.336900 -0.008949 -0.141420   \n",
       "venous         -0.419550  1.376600 -0.332950 -0.348040  0.983840  0.085752   \n",
       "nith           -0.353370 -0.539410 -1.567600 -0.092184  0.980020 -0.142490   \n",
       "redefine        0.647310 -0.178700 -0.714360  0.360730  0.845240  0.004022   \n",
       "fdg            -0.214390  0.932550  0.407980  0.134230  0.338310 -0.417860   \n",
       "\n",
       "                      48       49  \n",
       "expanders      -1.644300 -0.68110  \n",
       "alkyne          0.265180  0.47253  \n",
       "127             0.213650 -0.23329  \n",
       "territoriality -0.063234 -0.10698  \n",
       "1039           -0.102150  0.14072  \n",
       "...                  ...      ...  \n",
       "cashier         0.725090  0.44550  \n",
       "venous          1.336900 -1.49480  \n",
       "nith            0.566140 -1.38360  \n",
       "redefine       -0.005183  0.33183  \n",
       "fdg             0.483240  0.24165  \n",
       "\n",
       "[100 rows x 50 columns]"
      ]
     },
     "execution_count": 27,
     "metadata": {},
     "output_type": "execute_result"
    }
   ],
   "source": [
    "vector_list = [model[word] for word in words if word in model.vocab]\n",
    "\n",
    "words_filtered = [word for word in words if word in model.vocab]\n",
    "\n",
    "word_vec_zip = zip(words_filtered, vector_list)\n",
    "\n",
    "word_vec_dict = dict(word_vec_zip)\n",
    "df = pd.DataFrame.from_dict(word_vec_dict, orient='index')\n",
    "\n",
    "df.head(100)"
   ]
  },
  {
   "cell_type": "code",
   "execution_count": 28,
   "metadata": {},
   "outputs": [],
   "source": [
    "import seaborn as sns"
   ]
  },
  {
   "cell_type": "code",
   "execution_count": 37,
   "metadata": {},
   "outputs": [],
   "source": [
    "reduced_df['tokenized'] = reduced_df['lemmatized'].apply(str.split)"
   ]
  },
  {
   "cell_type": "code",
   "execution_count": 58,
   "metadata": {},
   "outputs": [],
   "source": [
    "def document_vector(sentence):\n",
    "    if len(sentence) == 0:\n",
    "        return np.zeros(model.vector_size)\n",
    "    doc = [word for word in sentence if word in model.vocab]\n",
    "    if len(doc) == 0:\n",
    "        return np.zeros(model.vector_size)\n",
    "    return np.mean(model[doc], axis=0)\n",
    "\n",
    "vectorized_by_word2vec = reduced_df['tokenized'].apply(document_vector)"
   ]
  },
  {
   "cell_type": "code",
   "execution_count": 86,
   "metadata": {},
   "outputs": [],
   "source": [
    "arr = vectorized_by_word2vec.to_numpy()\n",
    "arr = np.stack(arr)"
   ]
  },
  {
   "cell_type": "code",
   "execution_count": 87,
   "metadata": {},
   "outputs": [],
   "source": [
    "culsterer = KMeansClusterer(10, euclidean_distance)\n",
    "culstered = culsterer.cluster(arr, assign_clusters=True)"
   ]
  },
  {
   "cell_type": "code",
   "execution_count": 91,
   "metadata": {},
   "outputs": [],
   "source": [
    "from sklearn.manifold import TSNE"
   ]
  },
  {
   "cell_type": "code",
   "execution_count": null,
   "metadata": {},
   "outputs": [],
   "source": [
    "tsne_model = TSNE(perplexity=40, n_components=2, init='pca', n_iter=2500, random_state=23)\n",
    "new_values = tsne_model.fit_transform(arr)\n",
    "\n",
    "colors = ['red', 'blue', 'green', 'orange', 'purple', 'yellow', 'red', 'blue', 'green', 'orange']\n",
    "\n",
    "x = []\n",
    "y = []\n",
    "for value in new_values:\n",
    "    x.append(value[0])\n",
    "    y.append(value[1])\n",
    "\n",
    "plt.figure(figsize=(64, 64)) \n",
    "for i in range(len(x)):\n",
    "    plt.scatter(x[i],y[i], color=colors[culstered[i]])\n",
    "    plt.annotate(words[i],\n",
    "                 xy=(x[i], y[i]),\n",
    "                 xytext=(5, 2),\n",
    "                 textcoords='offset points',\n",
    "                 ha='right',\n",
    "                 va='bottom')\n",
    "plt.show()"
   ]
  },
  {
   "cell_type": "code",
   "execution_count": null,
   "metadata": {},
   "outputs": [],
   "source": []
  }
 ],
 "metadata": {
  "kernelspec": {
   "display_name": "Python 3",
   "language": "python",
   "name": "python3"
  },
  "language_info": {
   "codemirror_mode": {
    "name": "ipython",
    "version": 3
   },
   "file_extension": ".py",
   "mimetype": "text/x-python",
   "name": "python",
   "nbconvert_exporter": "python",
   "pygments_lexer": "ipython3",
   "version": "3.7.9"
  }
 },
 "nbformat": 4,
 "nbformat_minor": 4
}
